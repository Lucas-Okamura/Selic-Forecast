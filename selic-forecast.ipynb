{
 "cells": [
  {
   "cell_type": "markdown",
   "metadata": {},
   "source": [
    "# Forecast Taxa Selic\n",
    "\n",
    "Estudo focado em entender a taxa Selic no Brasil e prevê-la nos próximos períodos. Além disso, será útil entender também qual a influência desta taxa nos investimentos de renda fixa."
   ]
  },
  {
   "cell_type": "markdown",
   "metadata": {},
   "source": [
    "## 0.0. Imports"
   ]
  },
  {
   "cell_type": "code",
   "execution_count": 90,
   "metadata": {},
   "outputs": [],
   "source": [
    "import pandas as pd\n",
    "import numpy as np\n",
    "\n",
    "import requests\n",
    "from bs4 import BeautifulSoup\n",
    "import os\n",
    "\n",
    "from selenium import webdriver\n",
    "from selenium.webdriver.chrome.service import Service\n",
    "from webdriver_manager.chrome import ChromeDriverManager\n",
    "from selenium.webdriver.common.by import By\n",
    "import time\n",
    "\n",
    "import matplotlib.pyplot as plt\n",
    "import matplotlib as mpl\n",
    "import seaborn as sns\n",
    "\n",
    "from statsmodels.graphics.tsaplots import plot_acf, plot_pacf"
   ]
  },
  {
   "cell_type": "markdown",
   "metadata": {},
   "source": [
    "## 1.0. Coletando Dados"
   ]
  },
  {
   "cell_type": "code",
   "execution_count": 91,
   "metadata": {},
   "outputs": [],
   "source": [
    "# colocando opcao para nao abrir o browser\n",
    "options = webdriver.ChromeOptions()\n",
    "options.add_argument('headless')\n",
    "\n",
    "# instanciando driver\n",
    "driver = webdriver.Chrome(service = Service(ChromeDriverManager().install()), options = options)"
   ]
  },
  {
   "cell_type": "markdown",
   "metadata": {},
   "source": [
    "### 1.1. Selic"
   ]
  },
  {
   "cell_type": "code",
   "execution_count": 92,
   "metadata": {},
   "outputs": [],
   "source": [
    "# obtendo html da tabela\n",
    "url_selic = 'https://www.bcb.gov.br/controleinflacao/historicotaxasjuros'\n",
    "driver.get(url_selic)\n",
    "time.sleep(1)\n",
    "html = driver.page_source\n",
    "table = driver.find_element(By.ID, \"historicotaxasjuros\")\n",
    "table_html = table.get_attribute('outerHTML')"
   ]
  },
  {
   "cell_type": "code",
   "execution_count": 93,
   "metadata": {},
   "outputs": [
    {
     "data": {
      "text/html": [
       "<div>\n",
       "<style scoped>\n",
       "    .dataframe tbody tr th:only-of-type {\n",
       "        vertical-align: middle;\n",
       "    }\n",
       "\n",
       "    .dataframe tbody tr th {\n",
       "        vertical-align: top;\n",
       "    }\n",
       "\n",
       "    .dataframe thead th {\n",
       "        text-align: right;\n",
       "    }\n",
       "</style>\n",
       "<table border=\"1\" class=\"dataframe\">\n",
       "  <thead>\n",
       "    <tr style=\"text-align: right;\">\n",
       "      <th></th>\n",
       "      <th>reuniao</th>\n",
       "      <th>data</th>\n",
       "      <th>vies</th>\n",
       "      <th>periodo_vigencia</th>\n",
       "      <th>meta_selic_aa</th>\n",
       "      <th>tban_am</th>\n",
       "      <th>taxa_selic</th>\n",
       "      <th>taxa_selic_aa</th>\n",
       "    </tr>\n",
       "  </thead>\n",
       "  <tbody>\n",
       "    <tr>\n",
       "      <th>0</th>\n",
       "      <td>248º</td>\n",
       "      <td>03/08/2022</td>\n",
       "      <td>NaN</td>\n",
       "      <td>04/08/2022 -</td>\n",
       "      <td>1375</td>\n",
       "      <td>NaN</td>\n",
       "      <td>NaN</td>\n",
       "      <td>NaN</td>\n",
       "    </tr>\n",
       "    <tr>\n",
       "      <th>1</th>\n",
       "      <td>247º</td>\n",
       "      <td>15/06/2022</td>\n",
       "      <td>NaN</td>\n",
       "      <td>17/06/2022 - 03/08/2022</td>\n",
       "      <td>1325</td>\n",
       "      <td>NaN</td>\n",
       "      <td>168.0</td>\n",
       "      <td>1315.0</td>\n",
       "    </tr>\n",
       "    <tr>\n",
       "      <th>2</th>\n",
       "      <td>246º</td>\n",
       "      <td>04/05/2022</td>\n",
       "      <td>NaN</td>\n",
       "      <td>05/05/2022 - 16/06/2022</td>\n",
       "      <td>1275</td>\n",
       "      <td>NaN</td>\n",
       "      <td>143.0</td>\n",
       "      <td>1265.0</td>\n",
       "    </tr>\n",
       "    <tr>\n",
       "      <th>3</th>\n",
       "      <td>245º</td>\n",
       "      <td>16/03/2022</td>\n",
       "      <td>NaN</td>\n",
       "      <td>17/03/2022 - 04/05/2022</td>\n",
       "      <td>1175</td>\n",
       "      <td>NaN</td>\n",
       "      <td>145.0</td>\n",
       "      <td>1165.0</td>\n",
       "    </tr>\n",
       "    <tr>\n",
       "      <th>4</th>\n",
       "      <td>244º</td>\n",
       "      <td>02/02/2022</td>\n",
       "      <td>NaN</td>\n",
       "      <td>03/02/2022 - 16/03/2022</td>\n",
       "      <td>1075</td>\n",
       "      <td>NaN</td>\n",
       "      <td>113.0</td>\n",
       "      <td>1065.0</td>\n",
       "    </tr>\n",
       "  </tbody>\n",
       "</table>\n",
       "</div>"
      ],
      "text/plain": [
       "  reuniao        data vies         periodo_vigencia  meta_selic_aa  tban_am  \\\n",
       "0    248º  03/08/2022  NaN             04/08/2022 -           1375      NaN   \n",
       "1    247º  15/06/2022  NaN  17/06/2022 - 03/08/2022           1325      NaN   \n",
       "2    246º  04/05/2022  NaN  05/05/2022 - 16/06/2022           1275      NaN   \n",
       "3    245º  16/03/2022  NaN  17/03/2022 - 04/05/2022           1175      NaN   \n",
       "4    244º  02/02/2022  NaN  03/02/2022 - 16/03/2022           1075      NaN   \n",
       "\n",
       "   taxa_selic  taxa_selic_aa  \n",
       "0         NaN            NaN  \n",
       "1       168.0         1315.0  \n",
       "2       143.0         1265.0  \n",
       "3       145.0         1165.0  \n",
       "4       113.0         1065.0  "
      ]
     },
     "execution_count": 93,
     "metadata": {},
     "output_type": "execute_result"
    }
   ],
   "source": [
    "# transformando html em dataframe\n",
    "df_raw = pd.read_html(table_html)[0]\n",
    "df_raw.columns = ['reuniao', 'data', 'vies', 'periodo_vigencia', 'meta_selic_aa', 'tban_am', 'taxa_selic', 'taxa_selic_aa']\n",
    "df_raw.head()"
   ]
  },
  {
   "cell_type": "markdown",
   "metadata": {},
   "source": [
    "### 1.2. Desemprego"
   ]
  },
  {
   "cell_type": "code",
   "execution_count": 94,
   "metadata": {},
   "outputs": [
    {
     "name": "stdout",
     "output_type": "stream",
     "text": [
      "0, 1, 2, 3, 4, 5, 6, 7, 8, 9, 10, 11, 12, 13, 14, 15, 16, 17, 18, 19, 20, 21, 22, 23, 24, 25, 26, 27, 28, 29, 30, 31, 32, 33, 34, 35, 36, 37, 38, 39, 40, 41, 42, 43, 44, 45, 46, 47, 48, 49, 50, 51, 52, 53, 54, 55, 56, 57, 58, 59, 60, 61, 62, 63, 64, 65, 66, 67, 68, 69, 70, 71, 72, 73, 74, 75, 76, 77, 78, 79, 80, 81, 82, 83, 84, 85, 86, 87, 88, 89, 90, 91, 92, 93, 94, "
     ]
    }
   ],
   "source": [
    "# obtendo html da tabela\n",
    "url_desemprego = 'https://br.investing.com/economic-calendar/brazilian-unemployment-rate-411'\n",
    "driver.get(url_desemprego)\n",
    "time.sleep(1)\n",
    "\n",
    "# clicar no \"Exibir Mais\" até o fim\n",
    "exibir_mais = driver.find_element(By.LINK_TEXT, \"Exibir mais\")\n",
    "i = 0\n",
    "while exibir_mais:\n",
    "    print(i, end = ', ')\n",
    "    try:\n",
    "        exibir_mais.click()\n",
    "        time.sleep(1.5)\n",
    "        exibir_mais = driver.find_element(By.LINK_TEXT, \"Exibir mais\")\n",
    "    except:\n",
    "        try:\n",
    "            time.sleep(2)\n",
    "            exibir_mais.click()\n",
    "            time.sleep(1.5)\n",
    "            exibir_mais = driver.find_element(By.LINK_TEXT, \"Exibir mais\")\n",
    "        except:\n",
    "            break\n",
    "    i += 1\n",
    "\n",
    "table = driver.find_element(By.ID, \"eventHistoryTable411\")\n",
    "table_html = table.get_attribute('outerHTML')"
   ]
  },
  {
   "cell_type": "code",
   "execution_count": 95,
   "metadata": {},
   "outputs": [
    {
     "data": {
      "text/plain": [
       "(246, 5)"
      ]
     },
     "execution_count": 95,
     "metadata": {},
     "output_type": "execute_result"
    }
   ],
   "source": [
    "# transformando html em dataframe\n",
    "df_desemprego = pd.read_html(table_html)[0].iloc[:, :-1]\n",
    "df_desemprego.columns = ['lancamento', 'hora', 'atual', 'projecao', 'anterior']\n",
    "df_desemprego.shape"
   ]
  },
  {
   "cell_type": "markdown",
   "metadata": {},
   "source": [
    "## 2.0. Limpando e Manipulando Dados"
   ]
  },
  {
   "cell_type": "markdown",
   "metadata": {},
   "source": [
    "### 2.1. Arrumando numéricos e data\n",
    "\n",
    "**taxa_selic**, **meta_selic** e **taxa_selic_aa**: como o separador de decimal estava como vírgula, dividir valores por 100."
   ]
  },
  {
   "cell_type": "code",
   "execution_count": 96,
   "metadata": {},
   "outputs": [],
   "source": [
    "df2 = df_raw.copy()\n",
    "df2_desemprego = df_desemprego.copy()"
   ]
  },
  {
   "cell_type": "code",
   "execution_count": 97,
   "metadata": {},
   "outputs": [
    {
     "data": {
      "text/html": [
       "<div>\n",
       "<style scoped>\n",
       "    .dataframe tbody tr th:only-of-type {\n",
       "        vertical-align: middle;\n",
       "    }\n",
       "\n",
       "    .dataframe tbody tr th {\n",
       "        vertical-align: top;\n",
       "    }\n",
       "\n",
       "    .dataframe thead th {\n",
       "        text-align: right;\n",
       "    }\n",
       "</style>\n",
       "<table border=\"1\" class=\"dataframe\">\n",
       "  <thead>\n",
       "    <tr style=\"text-align: right;\">\n",
       "      <th></th>\n",
       "      <th>reuniao</th>\n",
       "      <th>data</th>\n",
       "      <th>vies</th>\n",
       "      <th>periodo_vigencia</th>\n",
       "      <th>meta_selic_aa</th>\n",
       "      <th>tban_am</th>\n",
       "      <th>taxa_selic</th>\n",
       "      <th>taxa_selic_aa</th>\n",
       "    </tr>\n",
       "  </thead>\n",
       "  <tbody>\n",
       "    <tr>\n",
       "      <th>0</th>\n",
       "      <td>248º</td>\n",
       "      <td>03/08/2022</td>\n",
       "      <td>NaN</td>\n",
       "      <td>04/08/2022 -</td>\n",
       "      <td>13.75</td>\n",
       "      <td>NaN</td>\n",
       "      <td>NaN</td>\n",
       "      <td>NaN</td>\n",
       "    </tr>\n",
       "    <tr>\n",
       "      <th>1</th>\n",
       "      <td>247º</td>\n",
       "      <td>15/06/2022</td>\n",
       "      <td>NaN</td>\n",
       "      <td>17/06/2022 - 03/08/2022</td>\n",
       "      <td>13.25</td>\n",
       "      <td>NaN</td>\n",
       "      <td>1.68</td>\n",
       "      <td>13.15</td>\n",
       "    </tr>\n",
       "    <tr>\n",
       "      <th>2</th>\n",
       "      <td>246º</td>\n",
       "      <td>04/05/2022</td>\n",
       "      <td>NaN</td>\n",
       "      <td>05/05/2022 - 16/06/2022</td>\n",
       "      <td>12.75</td>\n",
       "      <td>NaN</td>\n",
       "      <td>1.43</td>\n",
       "      <td>12.65</td>\n",
       "    </tr>\n",
       "    <tr>\n",
       "      <th>3</th>\n",
       "      <td>245º</td>\n",
       "      <td>16/03/2022</td>\n",
       "      <td>NaN</td>\n",
       "      <td>17/03/2022 - 04/05/2022</td>\n",
       "      <td>11.75</td>\n",
       "      <td>NaN</td>\n",
       "      <td>1.45</td>\n",
       "      <td>11.65</td>\n",
       "    </tr>\n",
       "    <tr>\n",
       "      <th>4</th>\n",
       "      <td>244º</td>\n",
       "      <td>02/02/2022</td>\n",
       "      <td>NaN</td>\n",
       "      <td>03/02/2022 - 16/03/2022</td>\n",
       "      <td>10.75</td>\n",
       "      <td>NaN</td>\n",
       "      <td>1.13</td>\n",
       "      <td>10.65</td>\n",
       "    </tr>\n",
       "  </tbody>\n",
       "</table>\n",
       "</div>"
      ],
      "text/plain": [
       "  reuniao        data vies         periodo_vigencia  meta_selic_aa  tban_am  \\\n",
       "0    248º  03/08/2022  NaN             04/08/2022 -          13.75      NaN   \n",
       "1    247º  15/06/2022  NaN  17/06/2022 - 03/08/2022          13.25      NaN   \n",
       "2    246º  04/05/2022  NaN  05/05/2022 - 16/06/2022          12.75      NaN   \n",
       "3    245º  16/03/2022  NaN  17/03/2022 - 04/05/2022          11.75      NaN   \n",
       "4    244º  02/02/2022  NaN  03/02/2022 - 16/03/2022          10.75      NaN   \n",
       "\n",
       "   taxa_selic  taxa_selic_aa  \n",
       "0         NaN            NaN  \n",
       "1        1.68          13.15  \n",
       "2        1.43          12.65  \n",
       "3        1.45          11.65  \n",
       "4        1.13          10.65  "
      ]
     },
     "execution_count": 97,
     "metadata": {},
     "output_type": "execute_result"
    }
   ],
   "source": [
    "df2['meta_selic_aa'] = df2['meta_selic_aa'] / 100\n",
    "df2['taxa_selic'] = df2['taxa_selic'] / 100\n",
    "df2['taxa_selic_aa'] = df2['taxa_selic_aa'] / 100\n",
    "df2.head()"
   ]
  },
  {
   "cell_type": "markdown",
   "metadata": {},
   "source": [
    "**atual**, **projecao** e **anterior**: retirar % e trocar vírgula por ponto."
   ]
  },
  {
   "cell_type": "code",
   "execution_count": 98,
   "metadata": {},
   "outputs": [
    {
     "data": {
      "text/html": [
       "<div>\n",
       "<style scoped>\n",
       "    .dataframe tbody tr th:only-of-type {\n",
       "        vertical-align: middle;\n",
       "    }\n",
       "\n",
       "    .dataframe tbody tr th {\n",
       "        vertical-align: top;\n",
       "    }\n",
       "\n",
       "    .dataframe thead th {\n",
       "        text-align: right;\n",
       "    }\n",
       "</style>\n",
       "<table border=\"1\" class=\"dataframe\">\n",
       "  <thead>\n",
       "    <tr style=\"text-align: right;\">\n",
       "      <th></th>\n",
       "      <th>lancamento</th>\n",
       "      <th>hora</th>\n",
       "      <th>atual</th>\n",
       "      <th>projecao</th>\n",
       "      <th>anterior</th>\n",
       "    </tr>\n",
       "  </thead>\n",
       "  <tbody>\n",
       "    <tr>\n",
       "      <th>0</th>\n",
       "      <td>29.07.2022</td>\n",
       "      <td>09:00</td>\n",
       "      <td>9.0</td>\n",
       "      <td>9.0</td>\n",
       "      <td>9.0</td>\n",
       "    </tr>\n",
       "    <tr>\n",
       "      <th>1</th>\n",
       "      <td>30.06.2022</td>\n",
       "      <td>09:00</td>\n",
       "      <td>9.0</td>\n",
       "      <td>NaN</td>\n",
       "      <td>10.0</td>\n",
       "    </tr>\n",
       "    <tr>\n",
       "      <th>2</th>\n",
       "      <td>31.05.2022</td>\n",
       "      <td>09:00</td>\n",
       "      <td>10.0</td>\n",
       "      <td>NaN</td>\n",
       "      <td>11.0</td>\n",
       "    </tr>\n",
       "    <tr>\n",
       "      <th>3</th>\n",
       "      <td>29.04.2022</td>\n",
       "      <td>09:00</td>\n",
       "      <td>11.0</td>\n",
       "      <td>11.0</td>\n",
       "      <td>11.0</td>\n",
       "    </tr>\n",
       "    <tr>\n",
       "      <th>4</th>\n",
       "      <td>31.03.2022</td>\n",
       "      <td>14:30</td>\n",
       "      <td>11.0</td>\n",
       "      <td>NaN</td>\n",
       "      <td>11.0</td>\n",
       "    </tr>\n",
       "  </tbody>\n",
       "</table>\n",
       "</div>"
      ],
      "text/plain": [
       "   lancamento   hora  atual  projecao  anterior\n",
       "0  29.07.2022  09:00    9.0       9.0       9.0\n",
       "1  30.06.2022  09:00    9.0       NaN      10.0\n",
       "2  31.05.2022  09:00   10.0       NaN      11.0\n",
       "3  29.04.2022  09:00   11.0      11.0      11.0\n",
       "4  31.03.2022  14:30   11.0       NaN      11.0"
      ]
     },
     "execution_count": 98,
     "metadata": {},
     "output_type": "execute_result"
    }
   ],
   "source": [
    "df2_desemprego['atual'] = df2_desemprego['atual'].str[:-2].replace(',', '.', regex = True).astype(float)\n",
    "df2_desemprego['projecao'] = df2_desemprego['projecao'].str[:-2].replace(',', '.', regex = True).astype(float)\n",
    "df2_desemprego['anterior'] = df2_desemprego['anterior'].str[:-2].replace(',', '.', regex = True).astype(float)\n",
    "df2_desemprego.head()"
   ]
  },
  {
   "cell_type": "markdown",
   "metadata": {},
   "source": [
    "### 2.2. Transformando em granularidade diária"
   ]
  },
  {
   "cell_type": "code",
   "execution_count": 99,
   "metadata": {},
   "outputs": [
    {
     "data": {
      "text/html": [
       "<div>\n",
       "<style scoped>\n",
       "    .dataframe tbody tr th:only-of-type {\n",
       "        vertical-align: middle;\n",
       "    }\n",
       "\n",
       "    .dataframe tbody tr th {\n",
       "        vertical-align: top;\n",
       "    }\n",
       "\n",
       "    .dataframe thead th {\n",
       "        text-align: right;\n",
       "    }\n",
       "</style>\n",
       "<table border=\"1\" class=\"dataframe\">\n",
       "  <thead>\n",
       "    <tr style=\"text-align: right;\">\n",
       "      <th></th>\n",
       "      <th>reuniao</th>\n",
       "      <th>data</th>\n",
       "      <th>vies</th>\n",
       "      <th>periodo_vigencia</th>\n",
       "      <th>meta_selic_aa</th>\n",
       "      <th>tban_am</th>\n",
       "      <th>taxa_selic</th>\n",
       "      <th>taxa_selic_aa</th>\n",
       "      <th>periodo_vigencia_min</th>\n",
       "      <th>periodo_vigencia_max</th>\n",
       "    </tr>\n",
       "  </thead>\n",
       "  <tbody>\n",
       "    <tr>\n",
       "      <th>0</th>\n",
       "      <td>248º</td>\n",
       "      <td>2022-08-03</td>\n",
       "      <td>NaN</td>\n",
       "      <td>04/08/2022 -</td>\n",
       "      <td>13.75</td>\n",
       "      <td>NaN</td>\n",
       "      <td>NaN</td>\n",
       "      <td>NaN</td>\n",
       "      <td>2022-08-04</td>\n",
       "      <td>NaT</td>\n",
       "    </tr>\n",
       "    <tr>\n",
       "      <th>1</th>\n",
       "      <td>247º</td>\n",
       "      <td>2022-06-15</td>\n",
       "      <td>NaN</td>\n",
       "      <td>17/06/2022 - 03/08/2022</td>\n",
       "      <td>13.25</td>\n",
       "      <td>NaN</td>\n",
       "      <td>1.68</td>\n",
       "      <td>13.15</td>\n",
       "      <td>2022-06-17</td>\n",
       "      <td>2022-08-03</td>\n",
       "    </tr>\n",
       "    <tr>\n",
       "      <th>2</th>\n",
       "      <td>246º</td>\n",
       "      <td>2022-05-04</td>\n",
       "      <td>NaN</td>\n",
       "      <td>05/05/2022 - 16/06/2022</td>\n",
       "      <td>12.75</td>\n",
       "      <td>NaN</td>\n",
       "      <td>1.43</td>\n",
       "      <td>12.65</td>\n",
       "      <td>2022-05-05</td>\n",
       "      <td>2022-06-16</td>\n",
       "    </tr>\n",
       "    <tr>\n",
       "      <th>3</th>\n",
       "      <td>245º</td>\n",
       "      <td>2022-03-16</td>\n",
       "      <td>NaN</td>\n",
       "      <td>17/03/2022 - 04/05/2022</td>\n",
       "      <td>11.75</td>\n",
       "      <td>NaN</td>\n",
       "      <td>1.45</td>\n",
       "      <td>11.65</td>\n",
       "      <td>2022-03-17</td>\n",
       "      <td>2022-05-04</td>\n",
       "    </tr>\n",
       "    <tr>\n",
       "      <th>4</th>\n",
       "      <td>244º</td>\n",
       "      <td>2022-02-02</td>\n",
       "      <td>NaN</td>\n",
       "      <td>03/02/2022 - 16/03/2022</td>\n",
       "      <td>10.75</td>\n",
       "      <td>NaN</td>\n",
       "      <td>1.13</td>\n",
       "      <td>10.65</td>\n",
       "      <td>2022-02-03</td>\n",
       "      <td>2022-03-16</td>\n",
       "    </tr>\n",
       "  </tbody>\n",
       "</table>\n",
       "</div>"
      ],
      "text/plain": [
       "  reuniao       data vies         periodo_vigencia  meta_selic_aa  tban_am  \\\n",
       "0    248º 2022-08-03  NaN             04/08/2022 -          13.75      NaN   \n",
       "1    247º 2022-06-15  NaN  17/06/2022 - 03/08/2022          13.25      NaN   \n",
       "2    246º 2022-05-04  NaN  05/05/2022 - 16/06/2022          12.75      NaN   \n",
       "3    245º 2022-03-16  NaN  17/03/2022 - 04/05/2022          11.75      NaN   \n",
       "4    244º 2022-02-02  NaN  03/02/2022 - 16/03/2022          10.75      NaN   \n",
       "\n",
       "   taxa_selic  taxa_selic_aa periodo_vigencia_min periodo_vigencia_max  \n",
       "0         NaN            NaN           2022-08-04                  NaT  \n",
       "1        1.68          13.15           2022-06-17           2022-08-03  \n",
       "2        1.43          12.65           2022-05-05           2022-06-16  \n",
       "3        1.45          11.65           2022-03-17           2022-05-04  \n",
       "4        1.13          10.65           2022-02-03           2022-03-16  "
      ]
     },
     "execution_count": 99,
     "metadata": {},
     "output_type": "execute_result"
    }
   ],
   "source": [
    "df2['data'] = pd.to_datetime(df2['data'], format = \"%d/%m/%Y\")\n",
    "df2['periodo_vigencia_min'] = pd.to_datetime(df2['periodo_vigencia'].apply(lambda x: x[:10]), format = \"%d/%m/%Y\")\n",
    "df2['periodo_vigencia_max'] = pd.to_datetime(df2['periodo_vigencia'].apply(lambda x: x[-10:] if len(x) == 23 else np.nan), format = \"%d/%m/%Y\")\n",
    "\n",
    "df2_desemprego['lancamento'] = pd.to_datetime(df2_desemprego['lancamento'].str[:10], format = \"%d.%m.%Y\")\n",
    "df2_desemprego['lancamento_lag'] = df2_desemprego['lancamento'].shift(1)\n",
    "df2.head()"
   ]
  },
  {
   "cell_type": "code",
   "execution_count": 100,
   "metadata": {},
   "outputs": [
    {
     "data": {
      "text/html": [
       "<div>\n",
       "<style scoped>\n",
       "    .dataframe tbody tr th:only-of-type {\n",
       "        vertical-align: middle;\n",
       "    }\n",
       "\n",
       "    .dataframe tbody tr th {\n",
       "        vertical-align: top;\n",
       "    }\n",
       "\n",
       "    .dataframe thead th {\n",
       "        text-align: right;\n",
       "    }\n",
       "</style>\n",
       "<table border=\"1\" class=\"dataframe\">\n",
       "  <thead>\n",
       "    <tr style=\"text-align: right;\">\n",
       "      <th></th>\n",
       "      <th>data</th>\n",
       "      <th>selic</th>\n",
       "      <th>ano</th>\n",
       "      <th>mes</th>\n",
       "      <th>desemprego</th>\n",
       "    </tr>\n",
       "  </thead>\n",
       "  <tbody>\n",
       "    <tr>\n",
       "      <th>0</th>\n",
       "      <td>2001-11-01</td>\n",
       "      <td>19.0</td>\n",
       "      <td>2001</td>\n",
       "      <td>11</td>\n",
       "      <td>11.7</td>\n",
       "    </tr>\n",
       "    <tr>\n",
       "      <th>1</th>\n",
       "      <td>2001-11-02</td>\n",
       "      <td>19.0</td>\n",
       "      <td>2001</td>\n",
       "      <td>11</td>\n",
       "      <td>11.7</td>\n",
       "    </tr>\n",
       "    <tr>\n",
       "      <th>2</th>\n",
       "      <td>2001-11-03</td>\n",
       "      <td>19.0</td>\n",
       "      <td>2001</td>\n",
       "      <td>11</td>\n",
       "      <td>11.7</td>\n",
       "    </tr>\n",
       "    <tr>\n",
       "      <th>3</th>\n",
       "      <td>2001-11-04</td>\n",
       "      <td>19.0</td>\n",
       "      <td>2001</td>\n",
       "      <td>11</td>\n",
       "      <td>11.7</td>\n",
       "    </tr>\n",
       "    <tr>\n",
       "      <th>4</th>\n",
       "      <td>2001-11-05</td>\n",
       "      <td>19.0</td>\n",
       "      <td>2001</td>\n",
       "      <td>11</td>\n",
       "      <td>11.7</td>\n",
       "    </tr>\n",
       "  </tbody>\n",
       "</table>\n",
       "</div>"
      ],
      "text/plain": [
       "        data  selic   ano  mes  desemprego\n",
       "0 2001-11-01   19.0  2001   11        11.7\n",
       "1 2001-11-02   19.0  2001   11        11.7\n",
       "2 2001-11-03   19.0  2001   11        11.7\n",
       "3 2001-11-04   19.0  2001   11        11.7\n",
       "4 2001-11-05   19.0  2001   11        11.7"
      ]
     },
     "execution_count": 100,
     "metadata": {},
     "output_type": "execute_result"
    }
   ],
   "source": [
    "df2_daily = pd.DataFrame(columns = ['data', 'selic'])\n",
    "df2_daily_desemprego = pd.DataFrame(columns = ['data', 'desemprego'])\n",
    "\n",
    "for index, row in df2.sort_values(by = 'data').iterrows():\n",
    "    # definindo dia mínimo e máximo (se máximo for nulo, colocar data de hoje)\n",
    "    min_date = row['periodo_vigencia_min']\n",
    "    max_date = row['periodo_vigencia_max'] if not pd.isnull(row['periodo_vigencia_max']) else pd.Timestamp.today()\n",
    "    \n",
    "    df_append = pd.DataFrame({'data': pd.date_range(min_date, max_date, freq='D')})\n",
    "    df_append['selic'] = row['meta_selic_aa']\n",
    "    df2_daily = pd.concat([df2_daily, df_append])\n",
    "\n",
    "for index, row in df2_desemprego.sort_values(by = 'lancamento').iterrows():\n",
    "    # definindo dia mínimo e máximo (se máximo for nulo, colocar data de hoje)\n",
    "    min_date = row['lancamento']\n",
    "    max_date = row['lancamento_lag'] if not pd.isnull(row['lancamento_lag']) else pd.Timestamp.today()\n",
    "    \n",
    "    df_append = pd.DataFrame({'data': pd.date_range(min_date, max_date, freq='D')})\n",
    "    df_append['desemprego'] = row['atual']\n",
    "    df2_daily_desemprego = pd.concat([df2_daily_desemprego, df_append])\n",
    "\n",
    "df2_daily['ano'] = df2_daily['data'].dt.year\n",
    "df2_daily['mes'] = df2_daily['data'].dt.month\n",
    "\n",
    "df2_daily = df2_daily.merge(df2_daily_desemprego, on = ['data'])\n",
    "\n",
    "df2_daily.head()"
   ]
  },
  {
   "cell_type": "markdown",
   "metadata": {},
   "source": [
    "### 2.3. Limpeza de dados"
   ]
  },
  {
   "cell_type": "markdown",
   "metadata": {},
   "source": [
    "Visto que as taxas de juros só começaram a ser fixadas na expressão anual a partir de 02/01/1998, dados antes desta data serão ignorados."
   ]
  },
  {
   "cell_type": "code",
   "execution_count": 101,
   "metadata": {},
   "outputs": [
    {
     "data": {
      "text/plain": [
       "(7843, 5)"
      ]
     },
     "execution_count": 101,
     "metadata": {},
     "output_type": "execute_result"
    }
   ],
   "source": [
    "df2_daily.shape"
   ]
  },
  {
   "cell_type": "code",
   "execution_count": 102,
   "metadata": {},
   "outputs": [],
   "source": [
    "df2_daily = df2_daily.query('data >= \"1998-01-02\"')"
   ]
  },
  {
   "cell_type": "code",
   "execution_count": 103,
   "metadata": {},
   "outputs": [
    {
     "data": {
      "text/plain": [
       "(7843, 5)"
      ]
     },
     "execution_count": 103,
     "metadata": {},
     "output_type": "execute_result"
    }
   ],
   "source": [
    "df2_daily.shape"
   ]
  },
  {
   "cell_type": "markdown",
   "metadata": {},
   "source": [
    "### 2.4. Transformando em granularidade mensal"
   ]
  },
  {
   "cell_type": "markdown",
   "metadata": {},
   "source": [
    "Para obter a taxa Selic mensal, transforma-se a base em granularidade diária e então calcula-se a média ponderada no mês da taxa."
   ]
  },
  {
   "cell_type": "code",
   "execution_count": 104,
   "metadata": {},
   "outputs": [
    {
     "data": {
      "text/html": [
       "<div>\n",
       "<style scoped>\n",
       "    .dataframe tbody tr th:only-of-type {\n",
       "        vertical-align: middle;\n",
       "    }\n",
       "\n",
       "    .dataframe tbody tr th {\n",
       "        vertical-align: top;\n",
       "    }\n",
       "\n",
       "    .dataframe thead th {\n",
       "        text-align: right;\n",
       "    }\n",
       "</style>\n",
       "<table border=\"1\" class=\"dataframe\">\n",
       "  <thead>\n",
       "    <tr style=\"text-align: right;\">\n",
       "      <th></th>\n",
       "      <th>ano</th>\n",
       "      <th>mes</th>\n",
       "      <th>selic</th>\n",
       "      <th>desemprego</th>\n",
       "      <th>data</th>\n",
       "    </tr>\n",
       "  </thead>\n",
       "  <tbody>\n",
       "    <tr>\n",
       "      <th>0</th>\n",
       "      <td>2001</td>\n",
       "      <td>11</td>\n",
       "      <td>19.000000</td>\n",
       "      <td>11.700000</td>\n",
       "      <td>2001-11-01</td>\n",
       "    </tr>\n",
       "    <tr>\n",
       "      <th>1</th>\n",
       "      <td>2001</td>\n",
       "      <td>12</td>\n",
       "      <td>19.000000</td>\n",
       "      <td>11.506250</td>\n",
       "      <td>2001-12-01</td>\n",
       "    </tr>\n",
       "    <tr>\n",
       "      <th>2</th>\n",
       "      <td>2002</td>\n",
       "      <td>1</td>\n",
       "      <td>19.000000</td>\n",
       "      <td>10.628125</td>\n",
       "      <td>2002-01-01</td>\n",
       "    </tr>\n",
       "    <tr>\n",
       "      <th>3</th>\n",
       "      <td>2002</td>\n",
       "      <td>2</td>\n",
       "      <td>18.931034</td>\n",
       "      <td>11.082759</td>\n",
       "      <td>2002-02-01</td>\n",
       "    </tr>\n",
       "    <tr>\n",
       "      <th>4</th>\n",
       "      <td>2002</td>\n",
       "      <td>3</td>\n",
       "      <td>18.664062</td>\n",
       "      <td>12.456250</td>\n",
       "      <td>2002-03-01</td>\n",
       "    </tr>\n",
       "    <tr>\n",
       "      <th>...</th>\n",
       "      <td>...</td>\n",
       "      <td>...</td>\n",
       "      <td>...</td>\n",
       "      <td>...</td>\n",
       "      <td>...</td>\n",
       "    </tr>\n",
       "    <tr>\n",
       "      <th>245</th>\n",
       "      <td>2022</td>\n",
       "      <td>4</td>\n",
       "      <td>11.750000</td>\n",
       "      <td>11.000000</td>\n",
       "      <td>2022-04-01</td>\n",
       "    </tr>\n",
       "    <tr>\n",
       "      <th>246</th>\n",
       "      <td>2022</td>\n",
       "      <td>5</td>\n",
       "      <td>12.625000</td>\n",
       "      <td>10.968750</td>\n",
       "      <td>2022-05-01</td>\n",
       "    </tr>\n",
       "    <tr>\n",
       "      <th>247</th>\n",
       "      <td>2022</td>\n",
       "      <td>6</td>\n",
       "      <td>12.991935</td>\n",
       "      <td>9.967742</td>\n",
       "      <td>2022-06-01</td>\n",
       "    </tr>\n",
       "    <tr>\n",
       "      <th>248</th>\n",
       "      <td>2022</td>\n",
       "      <td>7</td>\n",
       "      <td>13.250000</td>\n",
       "      <td>9.000000</td>\n",
       "      <td>2022-07-01</td>\n",
       "    </tr>\n",
       "    <tr>\n",
       "      <th>249</th>\n",
       "      <td>2022</td>\n",
       "      <td>8</td>\n",
       "      <td>13.678571</td>\n",
       "      <td>9.000000</td>\n",
       "      <td>2022-08-01</td>\n",
       "    </tr>\n",
       "  </tbody>\n",
       "</table>\n",
       "<p>250 rows × 5 columns</p>\n",
       "</div>"
      ],
      "text/plain": [
       "      ano  mes      selic  desemprego       data\n",
       "0    2001   11  19.000000   11.700000 2001-11-01\n",
       "1    2001   12  19.000000   11.506250 2001-12-01\n",
       "2    2002    1  19.000000   10.628125 2002-01-01\n",
       "3    2002    2  18.931034   11.082759 2002-02-01\n",
       "4    2002    3  18.664062   12.456250 2002-03-01\n",
       "..    ...  ...        ...         ...        ...\n",
       "245  2022    4  11.750000   11.000000 2022-04-01\n",
       "246  2022    5  12.625000   10.968750 2022-05-01\n",
       "247  2022    6  12.991935    9.967742 2022-06-01\n",
       "248  2022    7  13.250000    9.000000 2022-07-01\n",
       "249  2022    8  13.678571    9.000000 2022-08-01\n",
       "\n",
       "[250 rows x 5 columns]"
      ]
     },
     "execution_count": 104,
     "metadata": {},
     "output_type": "execute_result"
    }
   ],
   "source": [
    "# calculando média ponderada\n",
    "aux = df2_daily.groupby(['ano', 'mes', 'selic']).count().reset_index()\n",
    "wm = lambda x: np.average(x, weights = aux.loc[x.index, \"data\"])\n",
    "df2_monthly = aux.groupby(['ano', 'mes']).agg({'selic': wm}).reset_index()\n",
    "\n",
    "aux_desemprego = df2_daily.groupby(['ano', 'mes', 'desemprego']).count().reset_index()\n",
    "wm_desemprego = lambda x: np.average(x, weights = aux_desemprego.loc[x.index, \"data\"])\n",
    "df2_monthly_desemprego = aux_desemprego.groupby(['ano', 'mes']).agg({'desemprego': wm_desemprego}).reset_index()\n",
    "\n",
    "df2_monthly = df2_monthly.merge(df2_monthly_desemprego, on = ['ano', 'mes'])\n",
    "df2_monthly['data'] = pd.to_datetime(df2_monthly['ano'].astype(str) + '-' + df2_monthly['mes'].astype(str), format = \"%Y-%m\")\n",
    "df2_monthly"
   ]
  },
  {
   "cell_type": "markdown",
   "metadata": {},
   "source": [
    "## 3.0. Feature Engineering"
   ]
  },
  {
   "cell_type": "code",
   "execution_count": 105,
   "metadata": {},
   "outputs": [],
   "source": [
    "df3 = df2_monthly.copy()"
   ]
  },
  {
   "cell_type": "markdown",
   "metadata": {},
   "source": [
    "### 3.1. Anos de eleição\n",
    "\n",
    "Eleições acontecem a cada 4 anos, sendo a primeira em 1998 na nossa base de dados."
   ]
  },
  {
   "cell_type": "code",
   "execution_count": 106,
   "metadata": {},
   "outputs": [],
   "source": [
    "# eleicao\n",
    "years_eleicao = np.arange(1994, pd.Timestamp.today().year + 1, 4)\n",
    "df3.loc[df3['ano'].isin(years_eleicao), 'eleicao'] = 1\n",
    "df3['eleicao'] = df3['eleicao'].fillna(0)"
   ]
  },
  {
   "cell_type": "markdown",
   "metadata": {},
   "source": [
    "## 4.0. EDA"
   ]
  },
  {
   "cell_type": "code",
   "execution_count": 107,
   "metadata": {},
   "outputs": [],
   "source": [
    "df4 = df3.copy()"
   ]
  },
  {
   "cell_type": "markdown",
   "metadata": {},
   "source": [
    "### 4.1. Eleição e Desemprego\n",
    "\n",
    "Sabe-se que anos de eleição costumam agitar o país e serem anos mais instáveis. Não é possível identificar um padrão claro do comportamento da taxa Selic nesses períodos, fora o fato de que, pós eleição de um novo presidente, a taxa costuma subir (1998, 2002, 2010, 2014), com exceção de 2006 (reeleição de Lula) e 2018 (eleição de Bolsonaro).\n",
    "\n",
    "Em relação ao desemprego, verifica-se que há uma tendência diretamente proporcional a Selic até 2017, aproximadamente, onde a taxa de desemprego se manteve praticamente constante em altas taxas enquanto a taxa Selic caia."
   ]
  },
  {
   "cell_type": "code",
   "execution_count": 108,
   "metadata": {},
   "outputs": [
    {
     "data": {
      "image/png": "[encoded data removed]",
      "text/plain": [
       "<Figure size 864x576 with 1 Axes>"
      ]
     },
     "metadata": {
      "needs_background": "light"
     },
     "output_type": "display_data"
    }
   ],
   "source": [
    "fig, ax = plt.subplots(figsize = (12, 8))\n",
    "sns.lineplot(data = df4, x = 'data', y = 'selic', ax = ax, label = 'Selic');\n",
    "sns.lineplot(data = df4, x = 'data', y = 'desemprego', ax = ax, label = 'Desemprego');\n",
    "max_min_date_year = df4.query(\"eleicao == 1\").groupby('ano')['data'].agg(['min', 'max'])\n",
    "\n",
    "for index, row in max_min_date_year.iterrows():\n",
    "    if index == 2002:\n",
    "        ax.axvspan(row['min'], row['max'], alpha=0.2, color='red', label = 'Eleição')\n",
    "    else:\n",
    "        ax.axvspan(row['min'], row['max'], alpha=0.2, color='red')\n",
    "\n",
    "ax.set_title('Taxa Selic ao longo dos anos');\n",
    "plt.legend();"
   ]
  },
  {
   "cell_type": "markdown",
   "metadata": {},
   "source": [
    "### 4.2. Sazonalidade\n",
    "\n",
    "Verifica-se que o ano de maior variação da Selic após 2000 foi 2003. Fora isso, ao longo do ano a Selic tende a variar pouco. Verifica-se também baixa variação ao longo dos meses, não demonstrando uma sazonalidade clara."
   ]
  },
  {
   "cell_type": "code",
   "execution_count": 109,
   "metadata": {},
   "outputs": [
    {
     "data": {
      "image/png": "[encoded data removed]",
      "text/plain": [
       "<Figure size 1600x560 with 2 Axes>"
      ]
     },
     "metadata": {
      "needs_background": "light"
     },
     "output_type": "display_data"
    }
   ],
   "source": [
    "# Ano e Mês\n",
    "years = df4['ano']\n",
    "months = df4['mes']\n",
    "\n",
    "# Plot\n",
    "fig, axes = plt.subplots(1, 2, figsize=(20,7), dpi= 80)\n",
    "sns.boxplot(x='ano', y='selic', data=df4, ax=axes[0]);\n",
    "sns.boxplot(x='mes', y='selic', data=df4);\n",
    "\n",
    "axes[0].set_title('Boxplot Selic anual\\n(Tendência)', fontsize=18); \n",
    "axes[1].set_title('Boxplot Selic mensal\\n(Sazonalidade)', fontsize=18);\n",
    "plt.tight_layout();"
   ]
  },
  {
   "cell_type": "code",
   "execution_count": 110,
   "metadata": {},
   "outputs": [
    {
     "data": {
      "image/png": "[encoded data removed]",
      "text/plain": [
       "<Figure size 1600x560 with 2 Axes>"
      ]
     },
     "metadata": {
      "needs_background": "light"
     },
     "output_type": "display_data"
    }
   ],
   "source": [
    "# Ano e Mês\n",
    "years = df4['ano']\n",
    "months = df4['mes']\n",
    "\n",
    "# Plot\n",
    "fig, axes = plt.subplots(1, 2, figsize=(20,7), dpi= 80)\n",
    "sns.boxplot(x='ano', y='desemprego', data=df4, ax=axes[0]);\n",
    "sns.boxplot(x='mes', y='desemprego', data=df4);\n",
    "\n",
    "axes[0].set_title('Boxplot desemprego anual\\n(Tendência)', fontsize=18); \n",
    "axes[1].set_title('Boxplot desemprego mensal\\n(Sazonalidade)', fontsize=18);\n",
    "plt.tight_layout();"
   ]
  },
  {
   "cell_type": "markdown",
   "metadata": {},
   "source": [
    "### 4.3. Autocorrelação e Autocorrelação Parcial\n",
    "\n",
    "A autocorrelação indica a correlação de Pearson da série com seus lags. Já a autocorrelação parcial é a correlação com os lags, mas removendo o efeito de lags intermediários."
   ]
  },
  {
   "cell_type": "code",
   "execution_count": 111,
   "metadata": {},
   "outputs": [
    {
     "data": {
      "image/png": "[encoded data removed]",
      "text/plain": [
       "<Figure size 432x288 with 1 Axes>"
      ]
     },
     "metadata": {
      "needs_background": "light"
     },
     "output_type": "display_data"
    }
   ],
   "source": [
    "# autocorrelacao\n",
    "plot_acf(df4['selic'], lags = 50);"
   ]
  },
  {
   "cell_type": "code",
   "execution_count": 112,
   "metadata": {},
   "outputs": [
    {
     "data": {
      "image/png": "[encoded data removed]",
      "text/plain": [
       "<Figure size 432x288 with 1 Axes>"
      ]
     },
     "metadata": {
      "needs_background": "light"
     },
     "output_type": "display_data"
    }
   ],
   "source": [
    "# autocorrelacao parcial\n",
    "plot_pacf(df4['selic'], lags = 50, method='ywm');"
   ]
  },
  {
   "cell_type": "markdown",
   "metadata": {},
   "source": [
    "## 5.0. Preparação dos dados"
   ]
  },
  {
   "cell_type": "code",
   "execution_count": null,
   "metadata": {},
   "outputs": [],
   "source": []
  },
  {
   "cell_type": "markdown",
   "metadata": {},
   "source": [
    "## 6.0. Machine Learning"
   ]
  },
  {
   "cell_type": "code",
   "execution_count": 113,
   "metadata": {},
   "outputs": [],
   "source": [
    "df5 = df4.copy()"
   ]
  },
  {
   "cell_type": "markdown",
   "metadata": {},
   "source": [
    "### 6.1. ARIMA"
   ]
  },
  {
   "cell_type": "markdown",
   "metadata": {},
   "source": []
  }
 ],
 "metadata": {
  "kernelspec": {
   "display_name": "Python 3.10.4 ('selic')",
   "language": "python",
   "name": "python3"
  },
  "language_info": {
   "codemirror_mode": {
    "name": "ipython",
    "version": 3
   },
   "file_extension": ".py",
   "mimetype": "text/x-python",
   "name": "python",
   "nbconvert_exporter": "python",
   "pygments_lexer": "ipython3",
   "version": "3.10.4"
  },
  "orig_nbformat": 4,
  "vscode": {
   "interpreter": {
    "hash": "2d41ea7a87c5cadb351042d841f1141b4befcd19aa2d2a5624c7247f9f79eb61"
   }
  }
 },
 "nbformat": 4,
 "nbformat_minor": 2
}
