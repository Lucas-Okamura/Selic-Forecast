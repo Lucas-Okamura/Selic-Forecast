{
 "cells": [
  {
   "cell_type": "markdown",
   "metadata": {},
   "source": [
    "# Forecast Taxa Selic\n",
    "\n",
    "Estudo focado em entender a taxa Selic no Brasil e prevê-la nos próximos períodos. Além disso, será útil entender também qual a influência desta taxa nos investimentos de renda fixa."
   ]
  },
  {
   "cell_type": "markdown",
   "metadata": {},
   "source": [
    "## 0.0. Imports"
   ]
  },
  {
   "cell_type": "code",
   "execution_count": 1,
   "metadata": {},
   "outputs": [],
   "source": [
    "import pandas as pd\n",
    "import numpy as np\n",
    "\n",
    "import requests\n",
    "from bs4 import BeautifulSoup\n",
    "import os\n",
    "\n",
    "from selenium import webdriver\n",
    "from selenium.webdriver.chrome.service import Service\n",
    "from webdriver_manager.chrome import ChromeDriverManager\n",
    "from selenium.webdriver.common.by import By\n",
    "import time\n",
    "\n",
    "import matplotlib.pyplot as plt\n",
    "import seaborn as sns"
   ]
  },
  {
   "cell_type": "markdown",
   "metadata": {},
   "source": [
    "## 1.0. Coletando Dados"
   ]
  },
  {
   "cell_type": "code",
   "execution_count": 2,
   "metadata": {},
   "outputs": [],
   "source": [
    "# obtendo path do driver do chrome\n",
    "driver_path = os.environ.get('CHROME_DRIVER')\n",
    "\n",
    "# colocando opcao para nao abrir o browser\n",
    "options = webdriver.ChromeOptions()\n",
    "options.add_argument('headless')\n",
    "\n",
    "# instanciando driver\n",
    "driver = webdriver.Chrome(service = Service(ChromeDriverManager().install()), options = options)"
   ]
  },
  {
   "cell_type": "code",
   "execution_count": 3,
   "metadata": {},
   "outputs": [],
   "source": [
    "# obtendo html da tabela\n",
    "url_selic = 'https://www.bcb.gov.br/controleinflacao/historicotaxasjuros'\n",
    "driver.get(url_selic)\n",
    "time.sleep(1)\n",
    "html = driver.page_source\n",
    "table = driver.find_element(By.CLASS_NAME, \"table\")\n",
    "table_html = table.get_attribute('outerHTML')"
   ]
  },
  {
   "cell_type": "code",
   "execution_count": 4,
   "metadata": {},
   "outputs": [
    {
     "data": {
      "text/html": [
       "<div>\n",
       "<style scoped>\n",
       "    .dataframe tbody tr th:only-of-type {\n",
       "        vertical-align: middle;\n",
       "    }\n",
       "\n",
       "    .dataframe tbody tr th {\n",
       "        vertical-align: top;\n",
       "    }\n",
       "\n",
       "    .dataframe thead th {\n",
       "        text-align: right;\n",
       "    }\n",
       "</style>\n",
       "<table border=\"1\" class=\"dataframe\">\n",
       "  <thead>\n",
       "    <tr style=\"text-align: right;\">\n",
       "      <th></th>\n",
       "      <th>reuniao</th>\n",
       "      <th>data</th>\n",
       "      <th>vies</th>\n",
       "      <th>periodo_vigencia</th>\n",
       "      <th>meta_selic_aa</th>\n",
       "      <th>tban_am</th>\n",
       "      <th>taxa_selic</th>\n",
       "      <th>taxa_selic_aa</th>\n",
       "    </tr>\n",
       "  </thead>\n",
       "  <tbody>\n",
       "    <tr>\n",
       "      <th>0</th>\n",
       "      <td>248º</td>\n",
       "      <td>03/08/2022</td>\n",
       "      <td>NaN</td>\n",
       "      <td>04/08/2022 -</td>\n",
       "      <td>1375</td>\n",
       "      <td>NaN</td>\n",
       "      <td>NaN</td>\n",
       "      <td>NaN</td>\n",
       "    </tr>\n",
       "    <tr>\n",
       "      <th>1</th>\n",
       "      <td>247º</td>\n",
       "      <td>15/06/2022</td>\n",
       "      <td>NaN</td>\n",
       "      <td>17/06/2022 - 03/08/2022</td>\n",
       "      <td>1325</td>\n",
       "      <td>NaN</td>\n",
       "      <td>168.0</td>\n",
       "      <td>1315.0</td>\n",
       "    </tr>\n",
       "    <tr>\n",
       "      <th>2</th>\n",
       "      <td>246º</td>\n",
       "      <td>04/05/2022</td>\n",
       "      <td>NaN</td>\n",
       "      <td>05/05/2022 - 16/06/2022</td>\n",
       "      <td>1275</td>\n",
       "      <td>NaN</td>\n",
       "      <td>143.0</td>\n",
       "      <td>1265.0</td>\n",
       "    </tr>\n",
       "    <tr>\n",
       "      <th>3</th>\n",
       "      <td>245º</td>\n",
       "      <td>16/03/2022</td>\n",
       "      <td>NaN</td>\n",
       "      <td>17/03/2022 - 04/05/2022</td>\n",
       "      <td>1175</td>\n",
       "      <td>NaN</td>\n",
       "      <td>145.0</td>\n",
       "      <td>1165.0</td>\n",
       "    </tr>\n",
       "    <tr>\n",
       "      <th>4</th>\n",
       "      <td>244º</td>\n",
       "      <td>02/02/2022</td>\n",
       "      <td>NaN</td>\n",
       "      <td>03/02/2022 - 16/03/2022</td>\n",
       "      <td>1075</td>\n",
       "      <td>NaN</td>\n",
       "      <td>113.0</td>\n",
       "      <td>1065.0</td>\n",
       "    </tr>\n",
       "  </tbody>\n",
       "</table>\n",
       "</div>"
      ],
      "text/plain": [
       "  reuniao        data vies         periodo_vigencia  meta_selic_aa  tban_am  \\\n",
       "0    248º  03/08/2022  NaN             04/08/2022 -           1375      NaN   \n",
       "1    247º  15/06/2022  NaN  17/06/2022 - 03/08/2022           1325      NaN   \n",
       "2    246º  04/05/2022  NaN  05/05/2022 - 16/06/2022           1275      NaN   \n",
       "3    245º  16/03/2022  NaN  17/03/2022 - 04/05/2022           1175      NaN   \n",
       "4    244º  02/02/2022  NaN  03/02/2022 - 16/03/2022           1075      NaN   \n",
       "\n",
       "   taxa_selic  taxa_selic_aa  \n",
       "0         NaN            NaN  \n",
       "1       168.0         1315.0  \n",
       "2       143.0         1265.0  \n",
       "3       145.0         1165.0  \n",
       "4       113.0         1065.0  "
      ]
     },
     "execution_count": 4,
     "metadata": {},
     "output_type": "execute_result"
    }
   ],
   "source": [
    "# transformando html em dataframe\n",
    "df_raw = pd.read_html(table_html)[0]\n",
    "df_raw.columns = ['reuniao', 'data', 'vies', 'periodo_vigencia', 'meta_selic_aa', 'tban_am', 'taxa_selic', 'taxa_selic_aa']\n",
    "df_raw.head()"
   ]
  },
  {
   "cell_type": "markdown",
   "metadata": {},
   "source": [
    "## 2.0. Limpando e Manipulando Dados"
   ]
  },
  {
   "cell_type": "markdown",
   "metadata": {},
   "source": [
    "### 2.1. Arrumando numéricos\n",
    "\n",
    "**taxa_selic**, **meta_selic** e **taxa_selic_aa**: como o separador de decimal estava como vírgula, dividir valores por 100."
   ]
  },
  {
   "cell_type": "code",
   "execution_count": 16,
   "metadata": {},
   "outputs": [],
   "source": [
    "df2 = df_raw.copy()"
   ]
  },
  {
   "cell_type": "code",
   "execution_count": 17,
   "metadata": {},
   "outputs": [
    {
     "data": {
      "text/html": [
       "<div>\n",
       "<style scoped>\n",
       "    .dataframe tbody tr th:only-of-type {\n",
       "        vertical-align: middle;\n",
       "    }\n",
       "\n",
       "    .dataframe tbody tr th {\n",
       "        vertical-align: top;\n",
       "    }\n",
       "\n",
       "    .dataframe thead th {\n",
       "        text-align: right;\n",
       "    }\n",
       "</style>\n",
       "<table border=\"1\" class=\"dataframe\">\n",
       "  <thead>\n",
       "    <tr style=\"text-align: right;\">\n",
       "      <th></th>\n",
       "      <th>reuniao</th>\n",
       "      <th>data</th>\n",
       "      <th>vies</th>\n",
       "      <th>periodo_vigencia</th>\n",
       "      <th>meta_selic_aa</th>\n",
       "      <th>tban_am</th>\n",
       "      <th>taxa_selic</th>\n",
       "      <th>taxa_selic_aa</th>\n",
       "    </tr>\n",
       "  </thead>\n",
       "  <tbody>\n",
       "    <tr>\n",
       "      <th>0</th>\n",
       "      <td>248º</td>\n",
       "      <td>03/08/2022</td>\n",
       "      <td>NaN</td>\n",
       "      <td>04/08/2022 -</td>\n",
       "      <td>13.75</td>\n",
       "      <td>NaN</td>\n",
       "      <td>NaN</td>\n",
       "      <td>NaN</td>\n",
       "    </tr>\n",
       "    <tr>\n",
       "      <th>1</th>\n",
       "      <td>247º</td>\n",
       "      <td>15/06/2022</td>\n",
       "      <td>NaN</td>\n",
       "      <td>17/06/2022 - 03/08/2022</td>\n",
       "      <td>13.25</td>\n",
       "      <td>NaN</td>\n",
       "      <td>1.68</td>\n",
       "      <td>13.15</td>\n",
       "    </tr>\n",
       "    <tr>\n",
       "      <th>2</th>\n",
       "      <td>246º</td>\n",
       "      <td>04/05/2022</td>\n",
       "      <td>NaN</td>\n",
       "      <td>05/05/2022 - 16/06/2022</td>\n",
       "      <td>12.75</td>\n",
       "      <td>NaN</td>\n",
       "      <td>1.43</td>\n",
       "      <td>12.65</td>\n",
       "    </tr>\n",
       "    <tr>\n",
       "      <th>3</th>\n",
       "      <td>245º</td>\n",
       "      <td>16/03/2022</td>\n",
       "      <td>NaN</td>\n",
       "      <td>17/03/2022 - 04/05/2022</td>\n",
       "      <td>11.75</td>\n",
       "      <td>NaN</td>\n",
       "      <td>1.45</td>\n",
       "      <td>11.65</td>\n",
       "    </tr>\n",
       "    <tr>\n",
       "      <th>4</th>\n",
       "      <td>244º</td>\n",
       "      <td>02/02/2022</td>\n",
       "      <td>NaN</td>\n",
       "      <td>03/02/2022 - 16/03/2022</td>\n",
       "      <td>10.75</td>\n",
       "      <td>NaN</td>\n",
       "      <td>1.13</td>\n",
       "      <td>10.65</td>\n",
       "    </tr>\n",
       "  </tbody>\n",
       "</table>\n",
       "</div>"
      ],
      "text/plain": [
       "  reuniao        data vies         periodo_vigencia  meta_selic_aa  tban_am  \\\n",
       "0    248º  03/08/2022  NaN             04/08/2022 -          13.75      NaN   \n",
       "1    247º  15/06/2022  NaN  17/06/2022 - 03/08/2022          13.25      NaN   \n",
       "2    246º  04/05/2022  NaN  05/05/2022 - 16/06/2022          12.75      NaN   \n",
       "3    245º  16/03/2022  NaN  17/03/2022 - 04/05/2022          11.75      NaN   \n",
       "4    244º  02/02/2022  NaN  03/02/2022 - 16/03/2022          10.75      NaN   \n",
       "\n",
       "   taxa_selic  taxa_selic_aa  \n",
       "0         NaN            NaN  \n",
       "1        1.68          13.15  \n",
       "2        1.43          12.65  \n",
       "3        1.45          11.65  \n",
       "4        1.13          10.65  "
      ]
     },
     "execution_count": 17,
     "metadata": {},
     "output_type": "execute_result"
    }
   ],
   "source": [
    "df2['meta_selic_aa'] = df2['meta_selic_aa'] / 100\n",
    "df2['taxa_selic'] = df2['taxa_selic'] / 100\n",
    "df2['taxa_selic_aa'] = df2['taxa_selic_aa'] / 100\n",
    "df2.head()"
   ]
  },
  {
   "cell_type": "markdown",
   "metadata": {},
   "source": [
    "### 2.2. Transformando em granularidade diária"
   ]
  },
  {
   "cell_type": "code",
   "execution_count": 18,
   "metadata": {},
   "outputs": [
    {
     "data": {
      "text/html": [
       "<div>\n",
       "<style scoped>\n",
       "    .dataframe tbody tr th:only-of-type {\n",
       "        vertical-align: middle;\n",
       "    }\n",
       "\n",
       "    .dataframe tbody tr th {\n",
       "        vertical-align: top;\n",
       "    }\n",
       "\n",
       "    .dataframe thead th {\n",
       "        text-align: right;\n",
       "    }\n",
       "</style>\n",
       "<table border=\"1\" class=\"dataframe\">\n",
       "  <thead>\n",
       "    <tr style=\"text-align: right;\">\n",
       "      <th></th>\n",
       "      <th>reuniao</th>\n",
       "      <th>data</th>\n",
       "      <th>vies</th>\n",
       "      <th>periodo_vigencia</th>\n",
       "      <th>meta_selic_aa</th>\n",
       "      <th>tban_am</th>\n",
       "      <th>taxa_selic</th>\n",
       "      <th>taxa_selic_aa</th>\n",
       "      <th>periodo_vigencia_min</th>\n",
       "      <th>periodo_vigencia_max</th>\n",
       "    </tr>\n",
       "  </thead>\n",
       "  <tbody>\n",
       "    <tr>\n",
       "      <th>0</th>\n",
       "      <td>248º</td>\n",
       "      <td>2022-08-03</td>\n",
       "      <td>NaN</td>\n",
       "      <td>04/08/2022 -</td>\n",
       "      <td>13.75</td>\n",
       "      <td>NaN</td>\n",
       "      <td>NaN</td>\n",
       "      <td>NaN</td>\n",
       "      <td>2022-08-04</td>\n",
       "      <td>NaT</td>\n",
       "    </tr>\n",
       "    <tr>\n",
       "      <th>1</th>\n",
       "      <td>247º</td>\n",
       "      <td>2022-06-15</td>\n",
       "      <td>NaN</td>\n",
       "      <td>17/06/2022 - 03/08/2022</td>\n",
       "      <td>13.25</td>\n",
       "      <td>NaN</td>\n",
       "      <td>1.68</td>\n",
       "      <td>13.15</td>\n",
       "      <td>2022-06-17</td>\n",
       "      <td>2022-08-03</td>\n",
       "    </tr>\n",
       "    <tr>\n",
       "      <th>2</th>\n",
       "      <td>246º</td>\n",
       "      <td>2022-05-04</td>\n",
       "      <td>NaN</td>\n",
       "      <td>05/05/2022 - 16/06/2022</td>\n",
       "      <td>12.75</td>\n",
       "      <td>NaN</td>\n",
       "      <td>1.43</td>\n",
       "      <td>12.65</td>\n",
       "      <td>2022-05-05</td>\n",
       "      <td>2022-06-16</td>\n",
       "    </tr>\n",
       "    <tr>\n",
       "      <th>3</th>\n",
       "      <td>245º</td>\n",
       "      <td>2022-03-16</td>\n",
       "      <td>NaN</td>\n",
       "      <td>17/03/2022 - 04/05/2022</td>\n",
       "      <td>11.75</td>\n",
       "      <td>NaN</td>\n",
       "      <td>1.45</td>\n",
       "      <td>11.65</td>\n",
       "      <td>2022-03-17</td>\n",
       "      <td>2022-05-04</td>\n",
       "    </tr>\n",
       "    <tr>\n",
       "      <th>4</th>\n",
       "      <td>244º</td>\n",
       "      <td>2022-02-02</td>\n",
       "      <td>NaN</td>\n",
       "      <td>03/02/2022 - 16/03/2022</td>\n",
       "      <td>10.75</td>\n",
       "      <td>NaN</td>\n",
       "      <td>1.13</td>\n",
       "      <td>10.65</td>\n",
       "      <td>2022-02-03</td>\n",
       "      <td>2022-03-16</td>\n",
       "    </tr>\n",
       "  </tbody>\n",
       "</table>\n",
       "</div>"
      ],
      "text/plain": [
       "  reuniao       data vies         periodo_vigencia  meta_selic_aa  tban_am  \\\n",
       "0    248º 2022-08-03  NaN             04/08/2022 -          13.75      NaN   \n",
       "1    247º 2022-06-15  NaN  17/06/2022 - 03/08/2022          13.25      NaN   \n",
       "2    246º 2022-05-04  NaN  05/05/2022 - 16/06/2022          12.75      NaN   \n",
       "3    245º 2022-03-16  NaN  17/03/2022 - 04/05/2022          11.75      NaN   \n",
       "4    244º 2022-02-02  NaN  03/02/2022 - 16/03/2022          10.75      NaN   \n",
       "\n",
       "   taxa_selic  taxa_selic_aa periodo_vigencia_min periodo_vigencia_max  \n",
       "0         NaN            NaN           2022-08-04                  NaT  \n",
       "1        1.68          13.15           2022-06-17           2022-08-03  \n",
       "2        1.43          12.65           2022-05-05           2022-06-16  \n",
       "3        1.45          11.65           2022-03-17           2022-05-04  \n",
       "4        1.13          10.65           2022-02-03           2022-03-16  "
      ]
     },
     "execution_count": 18,
     "metadata": {},
     "output_type": "execute_result"
    }
   ],
   "source": [
    "df2['data'] = pd.to_datetime(df2['data'], format = \"%d/%m/%Y\")\n",
    "df2['periodo_vigencia_min'] = pd.to_datetime(df2['periodo_vigencia'].apply(lambda x: x[:10]), format = \"%d/%m/%Y\")\n",
    "df2['periodo_vigencia_max'] = pd.to_datetime(df2['periodo_vigencia'].apply(lambda x: x[-10:] if len(x) == 23 else np.nan), format = \"%d/%m/%Y\")\n",
    "df2.head()"
   ]
  },
  {
   "cell_type": "code",
   "execution_count": 19,
   "metadata": {},
   "outputs": [
    {
     "data": {
      "text/html": [
       "<div>\n",
       "<style scoped>\n",
       "    .dataframe tbody tr th:only-of-type {\n",
       "        vertical-align: middle;\n",
       "    }\n",
       "\n",
       "    .dataframe tbody tr th {\n",
       "        vertical-align: top;\n",
       "    }\n",
       "\n",
       "    .dataframe thead th {\n",
       "        text-align: right;\n",
       "    }\n",
       "</style>\n",
       "<table border=\"1\" class=\"dataframe\">\n",
       "  <thead>\n",
       "    <tr style=\"text-align: right;\">\n",
       "      <th></th>\n",
       "      <th>data</th>\n",
       "      <th>selic</th>\n",
       "      <th>ano</th>\n",
       "      <th>mes</th>\n",
       "    </tr>\n",
       "  </thead>\n",
       "  <tbody>\n",
       "    <tr>\n",
       "      <th>0</th>\n",
       "      <td>1996-07-01</td>\n",
       "      <td>1.9</td>\n",
       "      <td>1996</td>\n",
       "      <td>7</td>\n",
       "    </tr>\n",
       "    <tr>\n",
       "      <th>1</th>\n",
       "      <td>1996-07-02</td>\n",
       "      <td>1.9</td>\n",
       "      <td>1996</td>\n",
       "      <td>7</td>\n",
       "    </tr>\n",
       "    <tr>\n",
       "      <th>2</th>\n",
       "      <td>1996-07-03</td>\n",
       "      <td>1.9</td>\n",
       "      <td>1996</td>\n",
       "      <td>7</td>\n",
       "    </tr>\n",
       "    <tr>\n",
       "      <th>3</th>\n",
       "      <td>1996-07-04</td>\n",
       "      <td>1.9</td>\n",
       "      <td>1996</td>\n",
       "      <td>7</td>\n",
       "    </tr>\n",
       "    <tr>\n",
       "      <th>4</th>\n",
       "      <td>1996-07-05</td>\n",
       "      <td>1.9</td>\n",
       "      <td>1996</td>\n",
       "      <td>7</td>\n",
       "    </tr>\n",
       "  </tbody>\n",
       "</table>\n",
       "</div>"
      ],
      "text/plain": [
       "        data  selic   ano  mes\n",
       "0 1996-07-01    1.9  1996    7\n",
       "1 1996-07-02    1.9  1996    7\n",
       "2 1996-07-03    1.9  1996    7\n",
       "3 1996-07-04    1.9  1996    7\n",
       "4 1996-07-05    1.9  1996    7"
      ]
     },
     "execution_count": 19,
     "metadata": {},
     "output_type": "execute_result"
    }
   ],
   "source": [
    "df2_daily = pd.DataFrame(columns = ['data', 'selic'])\n",
    "\n",
    "for index, row in df2.sort_values(by = 'data').iterrows():\n",
    "    # definindo dia mínimo e máximo (se máximo for nulo, colocar data de hoje)\n",
    "    min_date = row['periodo_vigencia_min']\n",
    "    max_date = row['periodo_vigencia_max'] if not pd.isnull(row['periodo_vigencia_max']) else pd.Timestamp.today()\n",
    "    \n",
    "    df_append = pd.DataFrame({'data': pd.date_range(min_date, max_date, freq='D')})\n",
    "    df_append['selic'] = row['meta_selic_aa']\n",
    "    df2_daily = pd.concat([df2_daily, df_append])\n",
    "\n",
    "df2_daily['ano'] = df2_daily['data'].dt.year\n",
    "df2_daily['mes'] = df2_daily['data'].dt.month\n",
    "df2_daily.head()"
   ]
  },
  {
   "cell_type": "markdown",
   "metadata": {},
   "source": [
    "### 2.3. Limpeza de dados"
   ]
  },
  {
   "cell_type": "markdown",
   "metadata": {},
   "source": [
    "Visto que as taxas de juros só começaram a ser fixadas na expressão anual a partir de 02/01/1998, dados antes desta data serão ignorados."
   ]
  },
  {
   "cell_type": "code",
   "execution_count": 20,
   "metadata": {},
   "outputs": [
    {
     "data": {
      "text/plain": [
       "(9558, 4)"
      ]
     },
     "execution_count": 20,
     "metadata": {},
     "output_type": "execute_result"
    }
   ],
   "source": [
    "df2_daily.shape"
   ]
  },
  {
   "cell_type": "code",
   "execution_count": 21,
   "metadata": {},
   "outputs": [],
   "source": [
    "df2_daily = df2_daily.query('data >= \"1998-01-02\"')"
   ]
  },
  {
   "cell_type": "code",
   "execution_count": 22,
   "metadata": {},
   "outputs": [
    {
     "data": {
      "text/plain": [
       "(8979, 4)"
      ]
     },
     "execution_count": 22,
     "metadata": {},
     "output_type": "execute_result"
    }
   ],
   "source": [
    "df2_daily.shape"
   ]
  },
  {
   "cell_type": "markdown",
   "metadata": {},
   "source": [
    "### 2.4. Transformando em granularidade mensal"
   ]
  },
  {
   "cell_type": "markdown",
   "metadata": {},
   "source": [
    "Para obter a taxa Selic mensal, transforma-se a base em granularidade diária e então calcula-se a média ponderada no mês da taxa."
   ]
  },
  {
   "cell_type": "code",
   "execution_count": 23,
   "metadata": {},
   "outputs": [
    {
     "data": {
      "text/html": [
       "<div>\n",
       "<style scoped>\n",
       "    .dataframe tbody tr th:only-of-type {\n",
       "        vertical-align: middle;\n",
       "    }\n",
       "\n",
       "    .dataframe tbody tr th {\n",
       "        vertical-align: top;\n",
       "    }\n",
       "\n",
       "    .dataframe thead th {\n",
       "        text-align: right;\n",
       "    }\n",
       "</style>\n",
       "<table border=\"1\" class=\"dataframe\">\n",
       "  <thead>\n",
       "    <tr style=\"text-align: right;\">\n",
       "      <th></th>\n",
       "      <th>ano</th>\n",
       "      <th>mes</th>\n",
       "      <th>selic</th>\n",
       "      <th>data</th>\n",
       "    </tr>\n",
       "  </thead>\n",
       "  <tbody>\n",
       "    <tr>\n",
       "      <th>0</th>\n",
       "      <td>1998</td>\n",
       "      <td>1</td>\n",
       "      <td>37.650000</td>\n",
       "      <td>1998-01-01</td>\n",
       "    </tr>\n",
       "    <tr>\n",
       "      <th>1</th>\n",
       "      <td>1998</td>\n",
       "      <td>2</td>\n",
       "      <td>34.500000</td>\n",
       "      <td>1998-02-01</td>\n",
       "    </tr>\n",
       "    <tr>\n",
       "      <th>2</th>\n",
       "      <td>1998</td>\n",
       "      <td>3</td>\n",
       "      <td>28.838710</td>\n",
       "      <td>1998-03-01</td>\n",
       "    </tr>\n",
       "    <tr>\n",
       "      <th>3</th>\n",
       "      <td>1998</td>\n",
       "      <td>4</td>\n",
       "      <td>25.625000</td>\n",
       "      <td>1998-04-01</td>\n",
       "    </tr>\n",
       "    <tr>\n",
       "      <th>4</th>\n",
       "      <td>1998</td>\n",
       "      <td>5</td>\n",
       "      <td>22.717742</td>\n",
       "      <td>1998-05-01</td>\n",
       "    </tr>\n",
       "    <tr>\n",
       "      <th>...</th>\n",
       "      <td>...</td>\n",
       "      <td>...</td>\n",
       "      <td>...</td>\n",
       "      <td>...</td>\n",
       "    </tr>\n",
       "    <tr>\n",
       "      <th>291</th>\n",
       "      <td>2022</td>\n",
       "      <td>4</td>\n",
       "      <td>11.750000</td>\n",
       "      <td>2022-04-01</td>\n",
       "    </tr>\n",
       "    <tr>\n",
       "      <th>292</th>\n",
       "      <td>2022</td>\n",
       "      <td>5</td>\n",
       "      <td>12.620968</td>\n",
       "      <td>2022-05-01</td>\n",
       "    </tr>\n",
       "    <tr>\n",
       "      <th>293</th>\n",
       "      <td>2022</td>\n",
       "      <td>6</td>\n",
       "      <td>12.983333</td>\n",
       "      <td>2022-06-01</td>\n",
       "    </tr>\n",
       "    <tr>\n",
       "      <th>294</th>\n",
       "      <td>2022</td>\n",
       "      <td>7</td>\n",
       "      <td>13.250000</td>\n",
       "      <td>2022-07-01</td>\n",
       "    </tr>\n",
       "    <tr>\n",
       "      <th>295</th>\n",
       "      <td>2022</td>\n",
       "      <td>8</td>\n",
       "      <td>13.535714</td>\n",
       "      <td>2022-08-01</td>\n",
       "    </tr>\n",
       "  </tbody>\n",
       "</table>\n",
       "<p>296 rows × 4 columns</p>\n",
       "</div>"
      ],
      "text/plain": [
       "      ano  mes      selic       data\n",
       "0    1998    1  37.650000 1998-01-01\n",
       "1    1998    2  34.500000 1998-02-01\n",
       "2    1998    3  28.838710 1998-03-01\n",
       "3    1998    4  25.625000 1998-04-01\n",
       "4    1998    5  22.717742 1998-05-01\n",
       "..    ...  ...        ...        ...\n",
       "291  2022    4  11.750000 2022-04-01\n",
       "292  2022    5  12.620968 2022-05-01\n",
       "293  2022    6  12.983333 2022-06-01\n",
       "294  2022    7  13.250000 2022-07-01\n",
       "295  2022    8  13.535714 2022-08-01\n",
       "\n",
       "[296 rows x 4 columns]"
      ]
     },
     "execution_count": 23,
     "metadata": {},
     "output_type": "execute_result"
    }
   ],
   "source": [
    "# calculando média ponderada\n",
    "aux = df2_daily.groupby(['ano', 'mes', 'selic']).count().reset_index()\n",
    "wm = lambda x: np.average(x, weights = aux.loc[x.index, \"data\"])\n",
    "df2_monthly = aux.groupby(['ano', 'mes']).agg({'selic': wm}).reset_index()\n",
    "df2_monthly['data'] = pd.to_datetime(df2_monthly['ano'].astype(str) + '-' + df2_monthly['mes'].astype(str), format = \"%Y-%m\")\n",
    "df2_monthly"
   ]
  },
  {
   "cell_type": "markdown",
   "metadata": {},
   "source": [
    "## 3.0. Feature Engineering"
   ]
  },
  {
   "cell_type": "code",
   "execution_count": 28,
   "metadata": {},
   "outputs": [],
   "source": [
    "df3 = df2_monthly.copy()"
   ]
  },
  {
   "cell_type": "code",
   "execution_count": 60,
   "metadata": {},
   "outputs": [],
   "source": [
    "# eleicao\n",
    "years_eleicao = np.arange(1994, pd.Timestamp.today().year + 1, 4)\n",
    "df3.loc[df3['ano'].isin(years_eleicao), 'eleicao'] = 1\n",
    "df3['eleicao'] = df3['eleicao'].fillna(0)"
   ]
  },
  {
   "cell_type": "markdown",
   "metadata": {},
   "source": [
    "## 4.0. EDA"
   ]
  },
  {
   "cell_type": "code",
   "execution_count": 62,
   "metadata": {},
   "outputs": [],
   "source": [
    "df4 = df3.copy()"
   ]
  },
  {
   "cell_type": "code",
   "execution_count": 68,
   "metadata": {},
   "outputs": [
    {
     "data": {
      "image/png": "[encoded data removed]",
      "text/plain": [
       "<Figure size 864x576 with 1 Axes>"
      ]
     },
     "metadata": {
      "needs_background": "light"
     },
     "output_type": "display_data"
    }
   ],
   "source": [
    "fig, ax = plt.subplots(figsize = (12, 8))\n",
    "sns.lineplot(data = df3, x = 'data', y = 'selic', ax = ax);\n",
    "max_min_date_year = df4.query(\"eleicao == 1\").groupby('ano')['data'].agg(['min', 'max'])\n",
    "\n",
    "for index, row in max_min_date_year.iterrows():\n",
    "    if index == 1998:\n",
    "        ax.axvspan(row['min'], row['max'], alpha=0.2, color='red', label = 'Eleição')\n",
    "    else:\n",
    "        ax.axvspan(row['min'], row['max'], alpha=0.2, color='red')\n",
    "\n",
    "ax.set_title('Taxa Selic ao longo dos anos');\n",
    "plt.legend();"
   ]
  },
  {
   "cell_type": "code",
   "execution_count": null,
   "metadata": {},
   "outputs": [],
   "source": []
  }
 ],
 "metadata": {
  "kernelspec": {
   "display_name": "Python 3.10.4 ('selic')",
   "language": "python",
   "name": "python3"
  },
  "language_info": {
   "codemirror_mode": {
    "name": "ipython",
    "version": 3
   },
   "file_extension": ".py",
   "mimetype": "text/x-python",
   "name": "python",
   "nbconvert_exporter": "python",
   "pygments_lexer": "ipython3",
   "version": "3.10.4"
  },
  "orig_nbformat": 4,
  "vscode": {
   "interpreter": {
    "hash": "2d41ea7a87c5cadb351042d841f1141b4befcd19aa2d2a5624c7247f9f79eb61"
   }
  }
 },
 "nbformat": 4,
 "nbformat_minor": 2
}
